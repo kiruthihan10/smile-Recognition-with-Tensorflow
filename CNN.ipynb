{
  "nbformat": 4,
  "nbformat_minor": 0,
  "metadata": {
    "colab": {
      "name": "Untitled6.ipynb",
      "version": "0.3.2",
      "provenance": [],
      "include_colab_link": true
    },
    "kernelspec": {
      "name": "python3",
      "display_name": "Python 3"
    }
  },
  "cells": [
    {
      "cell_type": "markdown",
      "metadata": {
        "id": "view-in-github",
        "colab_type": "text"
      },
      "source": [
        "<a href=\"https://colab.research.google.com/github/kiruthihan10/smile-Recognition-with-Tensorflow/blob/master/CNN.ipynb\" target=\"_parent\"><img src=\"https://colab.research.google.com/assets/colab-badge.svg\" alt=\"Open In Colab\"/></a>"
      ]
    },
    {
      "cell_type": "code",
      "metadata": {
        "id": "tW3xj4srE77m",
        "colab_type": "code",
        "colab": {}
      },
      "source": [
        "import tensorflow as tf\n",
        "import numpy as np\n",
        "from PIL import Image\n",
        "import random\n"
      ],
      "execution_count": 0,
      "outputs": []
    },
    {
      "cell_type": "code",
      "metadata": {
        "id": "MqPpThfDEWmU",
        "colab_type": "code",
        "outputId": "00af9727-6105-470b-cd99-54958b69e1c9",
        "colab": {
          "base_uri": "https://localhost:8080/",
          "height": 188
        }
      },
      "source": [
        "height = 64\n",
        "width = 64\n",
        "channels = 3\n",
        "n_inputs = height * width\n",
        "\n",
        "conv1_fmaps = 96\n",
        "conv1_ksize = 16\n",
        "conv1_stride = 4\n",
        "conv1_pad = \"SAME\"\n",
        "\n",
        "conv2_fmaps = 64\n",
        "conv2_ksize = 4\n",
        "conv2_stride = 4\n",
        "conv2_pad = \"SAME\"\n",
        "\n",
        "\n",
        "pool3_fmaps = conv2_fmaps\n",
        "\n",
        "n_fc1 = 64\n",
        "n_outputs = 2\n",
        "\n",
        "\n",
        "with tf.name_scope(\"inputs\"):\n",
        "    X = tf.placeholder(tf.float32, shape=[None, height,width,channels], name=\"X\")\n",
        "    X_reshaped = tf.reshape(X, shape=[-1, height, width, channels])\n",
        "    y = tf.placeholder(tf.int32, shape=[None], name=\"y\")\n",
        "\n",
        "conv1 = tf.layers.conv2d(X_reshaped, filters=conv1_fmaps, kernel_size=conv1_ksize,\n",
        "                         strides=conv1_stride, padding=conv1_pad,\n",
        "                         activation=tf.nn.relu, name=\"conv1\")\n",
        "conv2 = tf.layers.conv2d(conv1, filters=conv2_fmaps, kernel_size=conv2_ksize,\n",
        "                         strides=conv2_stride, padding=conv2_pad,\n",
        "                         activation=tf.nn.relu, name=\"conv2\")\n",
        "\n",
        "with tf.name_scope(\"pool3\"):\n",
        "    pool3 = tf.nn.max_pool(conv2, ksize=[1, 2, 2, 1], strides=[1, 2, 2, 1], padding=\"VALID\")\n",
        "    pool3_flat = tf.reshape(pool3, shape=[-1, pool3_fmaps * 2 * 2])\n",
        "\n",
        "with tf.name_scope(\"fc1\"):\n",
        "    fc1 = tf.layers.dense(pool3_flat, n_fc1, activation=tf.nn.relu, name=\"fc1\")\n",
        "\n",
        "with tf.name_scope(\"output\"):\n",
        "    logits = tf.layers.dense(fc1, n_outputs, name=\"output\")\n",
        "    Y_proba = tf.nn.softmax(logits, name=\"Y_proba\")\n",
        "\n",
        "with tf.name_scope(\"train\"):\n",
        "    xentropy = tf.nn.sparse_softmax_cross_entropy_with_logits(logits=logits, labels=y)\n",
        "    loss = tf.reduce_mean(xentropy)\n",
        "    optimizer = tf.train.AdamOptimizer()\n",
        "    training_op = optimizer.minimize(loss)\n",
        "\n",
        "with tf.name_scope(\"eval\"):\n",
        "    correct = tf.nn.in_top_k(logits, y, 1)\n",
        "    accuracy = tf.reduce_mean(tf.cast(correct, tf.float32))\n",
        "\n",
        "with tf.name_scope(\"init_and_save\"):\n",
        "    init = tf.global_variables_initializer()\n",
        "    saver = tf.train.Saver()"
      ],
      "execution_count": 2,
      "outputs": [
        {
          "output_type": "stream",
          "text": [
            "WARNING:tensorflow:From <ipython-input-2-f7ac69400f4b>:30: conv2d (from tensorflow.python.layers.convolutional) is deprecated and will be removed in a future version.\n",
            "Instructions for updating:\n",
            "Use keras.layers.conv2d instead.\n",
            "WARNING:tensorflow:From /usr/local/lib/python3.6/dist-packages/tensorflow/python/framework/op_def_library.py:263: colocate_with (from tensorflow.python.framework.ops) is deprecated and will be removed in a future version.\n",
            "Instructions for updating:\n",
            "Colocations handled automatically by placer.\n",
            "WARNING:tensorflow:From <ipython-input-2-f7ac69400f4b>:40: dense (from tensorflow.python.layers.core) is deprecated and will be removed in a future version.\n",
            "Instructions for updating:\n",
            "Use keras.layers.dense instead.\n"
          ],
          "name": "stdout"
        }
      ]
    },
    {
      "cell_type": "code",
      "metadata": {
        "id": "o2bK0zgeE6wR",
        "colab_type": "code",
        "colab": {
          "base_uri": "https://localhost:8080/",
          "height": 54
        },
        "outputId": "4c1c75e9-1f2d-49d3-f5ec-cebaedc71e0e"
      },
      "source": [
        "from google.colab import drive\n",
        "drive.mount('/content/gdrive')"
      ],
      "execution_count": 3,
      "outputs": [
        {
          "output_type": "stream",
          "text": [
            "Drive already mounted at /content/gdrive; to attempt to forcibly remount, call drive.mount(\"/content/gdrive\", force_remount=True).\n"
          ],
          "name": "stdout"
        }
      ]
    },
    {
      "cell_type": "code",
      "metadata": {
        "id": "rANxIpMYFHIJ",
        "colab_type": "code",
        "colab": {}
      },
      "source": [
        "def img_loader():\n",
        "    common_path = \"/content/gdrive/My Drive/Smile_Recognition/faces/\"\n",
        "    txt_path = \"/content/gdrive/My Drive/Smile_Recognition/\"\n",
        "    id_add = open(txt_path+\"ALL_LIST_ppm.txt\",'r')\n",
        "    print(\"Txtfile Opened!!!\")\n",
        "    images = []\n",
        "    for line in id_add:\n",
        "      #print(line.strip())\n",
        "      if True:\n",
        "        grand_row = []\n",
        "        img = Image.open(common_path+line.strip())\n",
        "        img= (np.array(img))\n",
        "        images.append(img)\n",
        "    #print(len(grand_row))\n",
        "    return images\n",
        "\n",
        "def smile_check():\n",
        "    txt_path = \"/content/gdrive/My Drive/Smile_Recognition/\"\n",
        "    smile = open(txt_path+\"SMILE_list_ppm.txt\",'r')\n",
        "    print(\"Smile List Opened\")\n",
        "    id_add = open(txt_path+\"ALL_LIST_ppm.txt\",'r')\n",
        "    print(\"All list opened\")\n",
        "    smile_list = []\n",
        "    for line in smile:\n",
        "        smile_list.append(line.strip())\n",
        "    smiles = []\n",
        "    x=0\n",
        "    for name in id_add:\n",
        "        if name.strip() in smile_list:\n",
        "            smiles.append(True)\n",
        "            #print (x)\n",
        "        else:\n",
        "            smiles.append(False)\n",
        "        x+=1\n",
        "    #print(len(smile_list))\n",
        "    smile.close()\n",
        "    id_add.close()\n",
        "    return smiles"
      ],
      "execution_count": 0,
      "outputs": []
    },
    {
      "cell_type": "code",
      "metadata": {
        "id": "tZ9XLwLUFJrs",
        "colab_type": "code",
        "colab": {
          "base_uri": "https://localhost:8080/",
          "height": 50
        },
        "outputId": "0b1142dd-6429-446c-d9c9-a91ab2f3fdca"
      },
      "source": [
        "dataset = np.array(img_loader(),dtype=np.float32)\n",
        "batch_size,height,width,channels = dataset.shape\n",
        "print(dataset.shape)"
      ],
      "execution_count": 5,
      "outputs": [
        {
          "output_type": "stream",
          "text": [
            "Txtfile Opened!!!\n",
            "(1203, 64, 64, 3)\n"
          ],
          "name": "stdout"
        }
      ]
    },
    {
      "cell_type": "code",
      "metadata": {
        "id": "Ba5im_AeFMcb",
        "colab_type": "code",
        "colab": {
          "base_uri": "https://localhost:8080/",
          "height": 67
        },
        "outputId": "ecfddc84-2677-4a74-e523-b7e67d517357"
      },
      "source": [
        "output = smile_check()\n",
        "temp = []\n",
        "\n",
        "for i in output:\n",
        "  if i == True:\n",
        "    temp.append(1)\n",
        "  else:\n",
        "    temp.append(0)\n",
        "output = temp\n",
        "output=np.array(output,dtype=bool)\n",
        "output.shape"
      ],
      "execution_count": 6,
      "outputs": [
        {
          "output_type": "stream",
          "text": [
            "Smile List Opened\n",
            "All list opened\n"
          ],
          "name": "stdout"
        },
        {
          "output_type": "execute_result",
          "data": {
            "text/plain": [
              "(1203,)"
            ]
          },
          "metadata": {
            "tags": []
          },
          "execution_count": 6
        }
      ]
    },
    {
      "cell_type": "code",
      "metadata": {
        "id": "A7iucHsJFS5Q",
        "colab_type": "code",
        "colab": {}
      },
      "source": [
        "def shuffle_batch(X, y, batch_size):\n",
        "    rnd_idx = np.random.permutation(len(X))\n",
        "    n_batches = len(X) // batch_size\n",
        "    for batch_idx in np.array_split(rnd_idx, n_batches):\n",
        "        X_batch, y_batch = X[batch_idx], y[batch_idx]\n",
        "        yield X_batch, y_batch"
      ],
      "execution_count": 0,
      "outputs": []
    },
    {
      "cell_type": "code",
      "metadata": {
        "id": "95dWmgeiFZUC",
        "colab_type": "code",
        "colab": {}
      },
      "source": [
        "def shuffle2list(x,y):\n",
        "  mapIndexPosition = list(zip(x,y))\n",
        "  random.shuffle(mapIndexPosition)\n",
        "  x,y = zip(*mapIndexPosition)\n",
        "  return x,y"
      ],
      "execution_count": 0,
      "outputs": []
    },
    {
      "cell_type": "code",
      "metadata": {
        "id": "6wDPU9rggYbS",
        "colab_type": "code",
        "colab": {}
      },
      "source": [
        "def shuffle_in_unison(a, b):\n",
        "    assert len(a) == len(b)\n",
        "    shuffled_a = np.empty(a.shape, dtype=a.dtype)\n",
        "    shuffled_b = np.empty(b.shape, dtype=b.dtype)\n",
        "    permutation = np.random.permutation(len(a))\n",
        "    for old_index, new_index in enumerate(permutation):\n",
        "        shuffled_a[new_index] = a[old_index]\n",
        "        shuffled_b[new_index] = b[old_index]\n",
        "    return shuffled_a, shuffled_b"
      ],
      "execution_count": 0,
      "outputs": []
    },
    {
      "cell_type": "code",
      "metadata": {
        "id": "3PyI2uC1Fgss",
        "colab_type": "code",
        "colab": {
          "base_uri": "https://localhost:8080/",
          "height": 67
        },
        "outputId": "04967118-835b-4100-ad30-ce6825f41bd1"
      },
      "source": [
        "dataset,output = shuffle_in_unison(dataset,output)\n",
        "print(dataset.shape)\n",
        "X_train = np.array(dataset[:1000])\n",
        "y_train = np.array(output[:1000])\n",
        "X_test = np.array(dataset[1000:,:,:,:])\n",
        "y_test = np.array(output[1000:])\n",
        "print(X_train.shape)\n",
        "print(X_test.shape)"
      ],
      "execution_count": 10,
      "outputs": [
        {
          "output_type": "stream",
          "text": [
            "(1203, 64, 64, 3)\n",
            "(1000, 64, 64, 3)\n",
            "(203, 64, 64, 3)\n"
          ],
          "name": "stdout"
        }
      ]
    },
    {
      "cell_type": "code",
      "metadata": {
        "id": "vSTHEnqMFk-y",
        "colab_type": "code",
        "colab": {
          "base_uri": "https://localhost:8080/",
          "height": 857
        },
        "outputId": "46fa754a-355b-4b21-85a1-79be296b71ff"
      },
      "source": [
        "n_epochs = 50\n",
        "batch_size = 25\n",
        "\n",
        "with tf.Session() as sess:\n",
        "    init.run()\n",
        "    for epoch in range(n_epochs):\n",
        "        X_batch,y_batch=shuffle2list(X_train,y_train)\n",
        "        index = 0\n",
        "        while index+batch_size<len(X_batch):\n",
        "            sess.run(training_op, feed_dict={X: X_batch[index:index+batch_size], y: y_batch[index:index+batch_size]})\n",
        "            index+=batch_size\n",
        "        acc_batch = accuracy.eval(feed_dict={X: X_batch, y: y_batch})\n",
        "        acc_test = accuracy.eval(feed_dict={X: X_test, y: y_test})\n",
        "        print(epoch, \"Last batch accuracy:\", acc_batch, \"Test accuracy:\", acc_test)\n",
        "\n",
        "        save_path = saver.save(sess, \"./my_mnist_model\")"
      ],
      "execution_count": 11,
      "outputs": [
        {
          "output_type": "stream",
          "text": [
            "0 Last batch accuracy: 0.52 Test accuracy: 0.4827586\n",
            "1 Last batch accuracy: 0.789 Test accuracy: 0.81280786\n",
            "2 Last batch accuracy: 0.834 Test accuracy: 0.85714287\n",
            "3 Last batch accuracy: 0.892 Test accuracy: 0.8719212\n",
            "4 Last batch accuracy: 0.9 Test accuracy: 0.87684727\n",
            "5 Last batch accuracy: 0.879 Test accuracy: 0.8374384\n",
            "6 Last batch accuracy: 0.925 Test accuracy: 0.9014778\n",
            "7 Last batch accuracy: 0.854 Test accuracy: 0.8522167\n",
            "8 Last batch accuracy: 0.894 Test accuracy: 0.84729064\n",
            "9 Last batch accuracy: 0.943 Test accuracy: 0.8965517\n",
            "10 Last batch accuracy: 0.948 Test accuracy: 0.8817734\n",
            "11 Last batch accuracy: 0.927 Test accuracy: 0.8866995\n",
            "12 Last batch accuracy: 0.957 Test accuracy: 0.8965517\n",
            "13 Last batch accuracy: 0.966 Test accuracy: 0.8965517\n",
            "14 Last batch accuracy: 0.967 Test accuracy: 0.90640396\n",
            "15 Last batch accuracy: 0.913 Test accuracy: 0.8325123\n",
            "16 Last batch accuracy: 0.952 Test accuracy: 0.87684727\n",
            "17 Last batch accuracy: 0.962 Test accuracy: 0.8965517\n",
            "18 Last batch accuracy: 0.955 Test accuracy: 0.8817734\n",
            "19 Last batch accuracy: 0.971 Test accuracy: 0.9014778\n",
            "20 Last batch accuracy: 0.918 Test accuracy: 0.87684727\n",
            "21 Last batch accuracy: 0.977 Test accuracy: 0.9014778\n",
            "22 Last batch accuracy: 0.939 Test accuracy: 0.8817734\n",
            "23 Last batch accuracy: 0.978 Test accuracy: 0.89162564\n",
            "24 Last batch accuracy: 0.896 Test accuracy: 0.84729064\n",
            "25 Last batch accuracy: 0.972 Test accuracy: 0.9014778\n",
            "26 Last batch accuracy: 0.992 Test accuracy: 0.8965517\n",
            "27 Last batch accuracy: 0.981 Test accuracy: 0.8817734\n",
            "28 Last batch accuracy: 0.912 Test accuracy: 0.82758623\n",
            "29 Last batch accuracy: 0.987 Test accuracy: 0.9014778\n",
            "30 Last batch accuracy: 0.991 Test accuracy: 0.89162564\n",
            "31 Last batch accuracy: 0.992 Test accuracy: 0.8866995\n",
            "32 Last batch accuracy: 0.996 Test accuracy: 0.91133004\n",
            "33 Last batch accuracy: 0.997 Test accuracy: 0.8965517\n",
            "34 Last batch accuracy: 0.997 Test accuracy: 0.9014778\n",
            "35 Last batch accuracy: 0.998 Test accuracy: 0.91133004\n",
            "36 Last batch accuracy: 0.999 Test accuracy: 0.9162561\n",
            "37 Last batch accuracy: 0.998 Test accuracy: 0.9211823\n",
            "38 Last batch accuracy: 1.0 Test accuracy: 0.90640396\n",
            "39 Last batch accuracy: 0.999 Test accuracy: 0.90640396\n",
            "40 Last batch accuracy: 1.0 Test accuracy: 0.90640396\n",
            "41 Last batch accuracy: 0.999 Test accuracy: 0.89162564\n",
            "42 Last batch accuracy: 0.999 Test accuracy: 0.9014778\n",
            "43 Last batch accuracy: 0.999 Test accuracy: 0.90640396\n",
            "44 Last batch accuracy: 0.996 Test accuracy: 0.9014778\n",
            "45 Last batch accuracy: 0.993 Test accuracy: 0.9014778\n",
            "46 Last batch accuracy: 0.979 Test accuracy: 0.9162561\n",
            "47 Last batch accuracy: 0.768 Test accuracy: 0.7832512\n",
            "48 Last batch accuracy: 0.768 Test accuracy: 0.8226601\n",
            "49 Last batch accuracy: 0.866 Test accuracy: 0.87684727\n"
          ],
          "name": "stdout"
        }
      ]
    },
    {
      "cell_type": "code",
      "metadata": {
        "id": "hfC4WFHwGBqD",
        "colab_type": "code",
        "colab": {}
      },
      "source": [
        ""
      ],
      "execution_count": 0,
      "outputs": []
    }
  ]
}